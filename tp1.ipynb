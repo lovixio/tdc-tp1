{
 "cells": [
  {
   "cell_type": "code",
   "execution_count": 31,
   "source": [
    "import pandas as pd\n",
    "import matplotlib.pyplot as plt"
   ],
   "outputs": [],
   "metadata": {}
  },
  {
   "cell_type": "code",
   "execution_count": null,
   "source": [],
   "outputs": [],
   "metadata": {}
  },
  {
   "cell_type": "code",
   "execution_count": 32,
   "source": [
    "dataset = \"test-packages\"\n",
    "df = pd.read_csv(\"input/test-packages.csv\")\n",
    "df_freq = pd.read_csv(\"results/test-packages_frequency.csv\")\n",
    "df_info = pd.read_csv(\"results/test-packages_information.csv\")\n",
    "df_entropy = pd.read_csv(\"results/test-packages_entropy.csv\")\n"
   ],
   "outputs": [],
   "metadata": {}
  },
  {
   "cell_type": "code",
   "execution_count": null,
   "source": [],
   "outputs": [],
   "metadata": {}
  },
  {
   "cell_type": "code",
   "execution_count": 33,
   "source": [
    "df"
   ],
   "outputs": [
    {
     "output_type": "execute_result",
     "data": {
      "text/html": [
       "<div>\n",
       "<style scoped>\n",
       "    .dataframe tbody tr th:only-of-type {\n",
       "        vertical-align: middle;\n",
       "    }\n",
       "\n",
       "    .dataframe tbody tr th {\n",
       "        vertical-align: top;\n",
       "    }\n",
       "\n",
       "    .dataframe thead th {\n",
       "        text-align: right;\n",
       "    }\n",
       "</style>\n",
       "<table border=\"1\" class=\"dataframe\">\n",
       "  <thead>\n",
       "    <tr style=\"text-align: right;\">\n",
       "      <th></th>\n",
       "      <th>No.</th>\n",
       "      <th>Time</th>\n",
       "      <th>Source</th>\n",
       "      <th>Destination</th>\n",
       "      <th>Protocol</th>\n",
       "      <th>Length</th>\n",
       "      <th>Info</th>\n",
       "    </tr>\n",
       "  </thead>\n",
       "  <tbody>\n",
       "    <tr>\n",
       "      <th>0</th>\n",
       "      <td>1</td>\n",
       "      <td>0.000000e+00</td>\n",
       "      <td>34.107.221.82</td>\n",
       "      <td>192.168.0.86</td>\n",
       "      <td>TCP</td>\n",
       "      <td>66</td>\n",
       "      <td>80  &gt;  52072 [ACK] Seq=1 Ack=1 Win=265 Len=0 T...</td>\n",
       "    </tr>\n",
       "    <tr>\n",
       "      <th>1</th>\n",
       "      <td>2</td>\n",
       "      <td>2.090000e-07</td>\n",
       "      <td>34.107.221.82</td>\n",
       "      <td>192.168.0.86</td>\n",
       "      <td>TCP</td>\n",
       "      <td>66</td>\n",
       "      <td>80  &gt;  52070 [ACK] Seq=1 Ack=1 Win=265 Len=0 T...</td>\n",
       "    </tr>\n",
       "    <tr>\n",
       "      <th>2</th>\n",
       "      <td>3</td>\n",
       "      <td>1.352022e-01</td>\n",
       "      <td>192.168.0.86</td>\n",
       "      <td>52.24.163.249</td>\n",
       "      <td>TCP</td>\n",
       "      <td>66</td>\n",
       "      <td>39504  &gt;  443 [ACK] Seq=1 Ack=1 Win=501 Len=0 ...</td>\n",
       "    </tr>\n",
       "    <tr>\n",
       "      <th>3</th>\n",
       "      <td>4</td>\n",
       "      <td>4.350056e-01</td>\n",
       "      <td>52.24.163.249</td>\n",
       "      <td>192.168.0.86</td>\n",
       "      <td>TCP</td>\n",
       "      <td>66</td>\n",
       "      <td>[TCP ACKed unseen segment] 443  &gt;  39504 [ACK]...</td>\n",
       "    </tr>\n",
       "    <tr>\n",
       "      <th>4</th>\n",
       "      <td>5</td>\n",
       "      <td>1.511248e+00</td>\n",
       "      <td>192.168.0.86</td>\n",
       "      <td>23.212.49.138</td>\n",
       "      <td>TCP</td>\n",
       "      <td>66</td>\n",
       "      <td>50458  &gt;  80 [ACK] Seq=1 Ack=1 Win=501 Len=0 T...</td>\n",
       "    </tr>\n",
       "    <tr>\n",
       "      <th>...</th>\n",
       "      <td>...</td>\n",
       "      <td>...</td>\n",
       "      <td>...</td>\n",
       "      <td>...</td>\n",
       "      <td>...</td>\n",
       "      <td>...</td>\n",
       "      <td>...</td>\n",
       "    </tr>\n",
       "    <tr>\n",
       "      <th>39726</th>\n",
       "      <td>39727</td>\n",
       "      <td>1.019583e+03</td>\n",
       "      <td>185.197.26.220</td>\n",
       "      <td>192.168.0.86</td>\n",
       "      <td>UDP</td>\n",
       "      <td>254</td>\n",
       "      <td>50003  &gt;  46699 Len=212</td>\n",
       "    </tr>\n",
       "    <tr>\n",
       "      <th>39727</th>\n",
       "      <td>39728</td>\n",
       "      <td>1.019587e+03</td>\n",
       "      <td>192.168.0.86</td>\n",
       "      <td>185.197.26.209</td>\n",
       "      <td>UDP</td>\n",
       "      <td>190</td>\n",
       "      <td>56401  &gt;  50006 Len=148</td>\n",
       "    </tr>\n",
       "    <tr>\n",
       "      <th>39728</th>\n",
       "      <td>39729</td>\n",
       "      <td>1.019588e+03</td>\n",
       "      <td>192.168.0.86</td>\n",
       "      <td>185.197.26.209</td>\n",
       "      <td>UDP</td>\n",
       "      <td>155</td>\n",
       "      <td>56401  &gt;  50006 Len=113</td>\n",
       "    </tr>\n",
       "    <tr>\n",
       "      <th>39729</th>\n",
       "      <td>39730</td>\n",
       "      <td>1.019588e+03</td>\n",
       "      <td>192.168.0.86</td>\n",
       "      <td>185.197.26.209</td>\n",
       "      <td>UDP</td>\n",
       "      <td>167</td>\n",
       "      <td>56401  &gt;  50006 Len=125</td>\n",
       "    </tr>\n",
       "    <tr>\n",
       "      <th>39730</th>\n",
       "      <td>39731</td>\n",
       "      <td>1.019588e+03</td>\n",
       "      <td>192.168.0.86</td>\n",
       "      <td>185.197.26.209</td>\n",
       "      <td>UDP</td>\n",
       "      <td>314</td>\n",
       "      <td>56401  &gt;  50006 Len=272</td>\n",
       "    </tr>\n",
       "  </tbody>\n",
       "</table>\n",
       "<p>39731 rows × 7 columns</p>\n",
       "</div>"
      ],
      "text/plain": [
       "         No.          Time          Source     Destination Protocol  Length  \\\n",
       "0          1  0.000000e+00   34.107.221.82    192.168.0.86      TCP      66   \n",
       "1          2  2.090000e-07   34.107.221.82    192.168.0.86      TCP      66   \n",
       "2          3  1.352022e-01    192.168.0.86   52.24.163.249      TCP      66   \n",
       "3          4  4.350056e-01   52.24.163.249    192.168.0.86      TCP      66   \n",
       "4          5  1.511248e+00    192.168.0.86   23.212.49.138      TCP      66   \n",
       "...      ...           ...             ...             ...      ...     ...   \n",
       "39726  39727  1.019583e+03  185.197.26.220    192.168.0.86      UDP     254   \n",
       "39727  39728  1.019587e+03    192.168.0.86  185.197.26.209      UDP     190   \n",
       "39728  39729  1.019588e+03    192.168.0.86  185.197.26.209      UDP     155   \n",
       "39729  39730  1.019588e+03    192.168.0.86  185.197.26.209      UDP     167   \n",
       "39730  39731  1.019588e+03    192.168.0.86  185.197.26.209      UDP     314   \n",
       "\n",
       "                                                    Info  \n",
       "0      80  >  52072 [ACK] Seq=1 Ack=1 Win=265 Len=0 T...  \n",
       "1      80  >  52070 [ACK] Seq=1 Ack=1 Win=265 Len=0 T...  \n",
       "2      39504  >  443 [ACK] Seq=1 Ack=1 Win=501 Len=0 ...  \n",
       "3      [TCP ACKed unseen segment] 443  >  39504 [ACK]...  \n",
       "4      50458  >  80 [ACK] Seq=1 Ack=1 Win=501 Len=0 T...  \n",
       "...                                                  ...  \n",
       "39726                            50003  >  46699 Len=212  \n",
       "39727                            56401  >  50006 Len=148  \n",
       "39728                            56401  >  50006 Len=113  \n",
       "39729                            56401  >  50006 Len=125  \n",
       "39730                            56401  >  50006 Len=272  \n",
       "\n",
       "[39731 rows x 7 columns]"
      ]
     },
     "metadata": {},
     "execution_count": 33
    }
   ],
   "metadata": {}
  },
  {
   "cell_type": "markdown",
   "source": [
    "### Apariciones por protocolo"
   ],
   "metadata": {}
  },
  {
   "cell_type": "code",
   "execution_count": 34,
   "source": [
    "df.value_counts(df.Protocol).plot.bar(rot=40)"
   ],
   "outputs": [
    {
     "output_type": "execute_result",
     "data": {
      "text/plain": [
       "<AxesSubplot:xlabel='Protocol'>"
      ]
     },
     "metadata": {},
     "execution_count": 34
    },
    {
     "output_type": "display_data",
     "data": {
      "image/png": "[encoded data removed]",
      "text/plain": [
       "<Figure size 432x288 with 1 Axes>"
      ]
     },
     "metadata": {
      "needs_background": "light"
     }
    }
   ],
   "metadata": {}
  },
  {
   "cell_type": "code",
   "execution_count": 35,
   "source": [
    "# Remove TCP & QUIC values\n",
    "df2=df\n",
    "df2 = df2[df2[\"Protocol\"] != \"TCP\"]\n",
    "df2 = df2[df2[\"Protocol\"] != \"QUIC\"]\n",
    "df2.value_counts(df.Protocol).plot.bar(rot=40)"
   ],
   "outputs": [
    {
     "output_type": "execute_result",
     "data": {
      "text/plain": [
       "<AxesSubplot:xlabel='Protocol'>"
      ]
     },
     "metadata": {},
     "execution_count": 35
    },
    {
     "output_type": "display_data",
     "data": {
      "image/png": "[encoded data removed]",
      "text/plain": [
       "<Figure size 432x288 with 1 Axes>"
      ]
     },
     "metadata": {
      "needs_background": "light"
     }
    }
   ],
   "metadata": {}
  },
  {
   "cell_type": "markdown",
   "source": [
    "### Frecuencia por protocolo"
   ],
   "metadata": {}
  },
  {
   "cell_type": "code",
   "execution_count": 36,
   "source": [
    "\n",
    "#df[\"count\"] = df.value_counts(df.Protocol)\n",
    "#df.value_counts(df.Protocol)\n",
    "df[\"count\"] = df.groupby(\"Protocol\").sum().Length\n",
    "df.value_counts(df.Protocol, normalize=True).plot.bar(rot=40)\n"
   ],
   "outputs": [
    {
     "output_type": "execute_result",
     "data": {
      "text/plain": [
       "<AxesSubplot:xlabel='Protocol'>"
      ]
     },
     "metadata": {},
     "execution_count": 36
    },
    {
     "output_type": "display_data",
     "data": {
      "image/png": "[encoded data removed]",
      "text/plain": [
       "<Figure size 432x288 with 1 Axes>"
      ]
     },
     "metadata": {
      "needs_background": "light"
     }
    }
   ],
   "metadata": {}
  },
  {
   "cell_type": "code",
   "execution_count": 37,
   "source": [
    "df_entropy[df_entropy[\"dataset\"]==dataset][\"value\"].item()"
   ],
   "outputs": [
    {
     "output_type": "execute_result",
     "data": {
      "text/plain": [
       "0.0129909885862041"
      ]
     },
     "metadata": {},
     "execution_count": 37
    }
   ],
   "metadata": {}
  },
  {
   "cell_type": "markdown",
   "source": [
    "# Informacion por protocolo"
   ],
   "metadata": {}
  },
  {
   "cell_type": "code",
   "execution_count": 38,
   "source": [
    "plt.bar(df_info[\"type\"], df_info[\"value\"])\n",
    "plt.xlabel(\"Protocolo\")\n",
    "plt.ylabel(\"Information\")\n",
    "entropy = df_entropy[df_entropy[\"dataset\"]==dataset][\"value\"].item()\n",
    "plt.axhline(y=entropy, color='r', linestyle='-')\n",
    "plt.text(-0.8,entropy,'Entropia')\n",
    "plt.show()"
   ],
   "outputs": [
    {
     "output_type": "display_data",
     "data": {
      "image/png": "[encoded data removed]",
      "text/plain": [
       "<Figure size 432x288 with 1 Axes>"
      ]
     },
     "metadata": {
      "needs_background": "light"
     }
    }
   ],
   "metadata": {}
  },
  {
   "cell_type": "code",
   "execution_count": 39,
   "source": [
    "df_freq"
   ],
   "outputs": [
    {
     "output_type": "execute_result",
     "data": {
      "text/html": [
       "<div>\n",
       "<style scoped>\n",
       "    .dataframe tbody tr th:only-of-type {\n",
       "        vertical-align: middle;\n",
       "    }\n",
       "\n",
       "    .dataframe tbody tr th {\n",
       "        vertical-align: top;\n",
       "    }\n",
       "\n",
       "    .dataframe thead th {\n",
       "        text-align: right;\n",
       "    }\n",
       "</style>\n",
       "<table border=\"1\" class=\"dataframe\">\n",
       "  <thead>\n",
       "    <tr style=\"text-align: right;\">\n",
       "      <th></th>\n",
       "      <th>type</th>\n",
       "      <th>value</th>\n",
       "    </tr>\n",
       "  </thead>\n",
       "  <tbody>\n",
       "    <tr>\n",
       "      <th>0</th>\n",
       "      <td>IPV4</td>\n",
       "      <td>0.998917</td>\n",
       "    </tr>\n",
       "    <tr>\n",
       "      <th>1</th>\n",
       "      <td>ARP</td>\n",
       "      <td>0.000874</td>\n",
       "    </tr>\n",
       "    <tr>\n",
       "      <th>2</th>\n",
       "      <td>IPV6</td>\n",
       "      <td>0.000208</td>\n",
       "    </tr>\n",
       "  </tbody>\n",
       "</table>\n",
       "</div>"
      ],
      "text/plain": [
       "   type     value\n",
       "0  IPV4  0.998917\n",
       "1   ARP  0.000874\n",
       "2  IPV6  0.000208"
      ]
     },
     "metadata": {},
     "execution_count": 39
    }
   ],
   "metadata": {}
  },
  {
   "cell_type": "code",
   "execution_count": null,
   "source": [],
   "outputs": [],
   "metadata": {}
  },
  {
   "cell_type": "code",
   "execution_count": null,
   "source": [],
   "outputs": [],
   "metadata": {}
  }
 ],
 "metadata": {
  "kernelspec": {
   "name": "python3",
   "display_name": "Python 3.8.10 64-bit"
  },
  "language_info": {
   "codemirror_mode": {
    "name": "ipython",
    "version": 3
   },
   "file_extension": ".py",
   "mimetype": "text/x-python",
   "name": "python",
   "nbconvert_exporter": "python",
   "pygments_lexer": "ipython3",
   "version": "3.8.10"
  },
  "interpreter": {
   "hash": "916dbcbb3f70747c44a77c7bcd40155683ae19c65e1c03b4aa3499c5328201f1"
  }
 },
 "nbformat": 4,
 "nbformat_minor": 5
}